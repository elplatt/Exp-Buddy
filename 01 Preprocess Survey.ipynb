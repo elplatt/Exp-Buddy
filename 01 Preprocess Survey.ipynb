{
 "cells": [
  {
   "cell_type": "code",
   "execution_count": null,
   "metadata": {},
   "outputs": [],
   "source": [
    "from matplotlib import pyplot as plt\n",
    "import numpy as np\n",
    "import pandas as pd\n",
    "%matplotlib inline"
   ]
  },
  {
   "cell_type": "code",
   "execution_count": null,
   "metadata": {},
   "outputs": [],
   "source": [
    "files = [\n",
    "    'SI301 Fall 2017 Feedback Form (Early Teamwork Group).csv',\n",
    "    'SI301 Fall 2017 Feedback Form (Late Teamwork Group).csv',\n",
    "    'SI301 Fall 2018 Feedback Form (Early Teamwork Group).csv',\n",
    "    'SI301 Fall 2018 Feedback Form (Late Teamwork Group).csv',\n",
    "    'SI301 Fall 2019 Feedback Form (Early Teamwork Group).csv',\n",
    "    'SI301 Fall 2019 Feedback Form (Late Teamwork Group).csv'\n",
    "]"
   ]
  },
  {
   "cell_type": "code",
   "execution_count": null,
   "metadata": {},
   "outputs": [],
   "source": [
    "def make_likert(df):\n",
    "    likert = {\n",
    "        'Strongly Disagree': -2,\n",
    "        'Disagree': -1,\n",
    "        'Neutral': 0,\n",
    "        'Agree': 1,\n",
    "        'Strongly Agree': 2,\n",
    "        'N/A': float('nan')\n",
    "    }\n",
    "    for c in df.columns:\n",
    "        for i in df.index:\n",
    "            try:\n",
    "                parts = df[c][i].split(';')\n",
    "            except AttributeError:\n",
    "                continue\n",
    "            except KeyError:\n",
    "                continue\n",
    "            if len(parts) > 0 and parts[0] in likert.keys():\n",
    "                try:\n",
    "                    v = np.nanmean([likert[p.strip()] for p in parts])\n",
    "                except KeyError:\n",
    "                    print(parts, df[c][i], i)\n",
    "                df[c][i] = v\n",
    "    return df"
   ]
  },
  {
   "cell_type": "code",
   "execution_count": null,
   "metadata": {},
   "outputs": [],
   "source": [
    "data_frames = []\n",
    "for i, file in enumerate(files):\n",
    "    df = make_likert(pd.read_csv('data/' + file))\n",
    "    data_frames.append(df)\n",
    "    df.to_csv('preprocessed/' + file)"
   ]
  },
  {
   "cell_type": "code",
   "execution_count": null,
   "metadata": {},
   "outputs": [],
   "source": [
    "df"
   ]
  },
  {
   "cell_type": "code",
   "execution_count": null,
   "metadata": {},
   "outputs": [],
   "source": []
  }
 ],
 "metadata": {
  "kernelspec": {
   "display_name": "Python 3 (ipykernel)",
   "language": "python",
   "name": "python3"
  },
  "language_info": {
   "codemirror_mode": {
    "name": "ipython",
    "version": 3
   },
   "file_extension": ".py",
   "mimetype": "text/x-python",
   "name": "python",
   "nbconvert_exporter": "python",
   "pygments_lexer": "ipython3",
   "version": "3.9.5"
  }
 },
 "nbformat": 4,
 "nbformat_minor": 4
}
