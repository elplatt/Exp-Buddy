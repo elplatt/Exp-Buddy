{
 "cells": [
  {
   "cell_type": "code",
   "execution_count": null,
   "metadata": {},
   "outputs": [],
   "source": [
    "from matplotlib import pyplot as plt\n",
    "import numpy as np\n",
    "import pandas as pd\n",
    "import scipy.stats as spstats\n",
    "%matplotlib inline"
   ]
  },
  {
   "cell_type": "code",
   "execution_count": null,
   "metadata": {},
   "outputs": [],
   "source": [
    "grade_file = 'preprocessed/grades_2018.csv'\n",
    "df = pd.read_csv(grade_file)"
   ]
  },
  {
   "cell_type": "code",
   "execution_count": null,
   "metadata": {},
   "outputs": [],
   "source": [
    "df_exp = df[df.treatment == 'experiment'].dropna()\n",
    "df_con = df[df.treatment == 'control'].dropna()"
   ]
  },
  {
   "cell_type": "code",
   "execution_count": null,
   "metadata": {},
   "outputs": [],
   "source": [
    "data = [\n",
    "    df_con.midterm,\n",
    "    df_exp.midterm]\n",
    "t, p = spstats.ttest_ind(df_con.midterm, df_exp.midterm)\n",
    "plt.figure()\n",
    "plt.title(\"{} (t={:0.2f}, p={:0.3f})\".format('midterm', t, p))\n",
    "plt.hist(data, label=['control', 'treatment'])\n",
    "plt.legend()"
   ]
  },
  {
   "cell_type": "code",
   "execution_count": null,
   "metadata": {},
   "outputs": [],
   "source": [
    "data = [\n",
    "    df_con.final,\n",
    "    df_exp.final]\n",
    "t, p = spstats.ttest_ind(df_con.final, df_exp.final)\n",
    "plt.figure()\n",
    "plt.title(\"{} (t={:0.2f}, p={:0.3f})\".format('final', t, p))\n",
    "plt.hist(data, label=['control', 'treatment'])\n",
    "plt.legend()"
   ]
  },
  {
   "cell_type": "code",
   "execution_count": null,
   "metadata": {},
   "outputs": [],
   "source": [
    "spstats.kruskal(df_con.midterm, df_exp.midterm)"
   ]
  },
  {
   "cell_type": "code",
   "execution_count": null,
   "metadata": {},
   "outputs": [],
   "source": [
    "spstats.kruskal(df_con.final, df_exp.final)"
   ]
  },
  {
   "cell_type": "code",
   "execution_count": null,
   "metadata": {},
   "outputs": [],
   "source": []
  }
 ],
 "metadata": {
  "kernelspec": {
   "display_name": "Python 3 (ipykernel)",
   "language": "python",
   "name": "python3"
  },
  "language_info": {
   "codemirror_mode": {
    "name": "ipython",
    "version": 3
   },
   "file_extension": ".py",
   "mimetype": "text/x-python",
   "name": "python",
   "nbconvert_exporter": "python",
   "pygments_lexer": "ipython3",
   "version": "3.9.5"
  }
 },
 "nbformat": 4,
 "nbformat_minor": 4
}
