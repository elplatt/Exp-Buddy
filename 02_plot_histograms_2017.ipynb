{
 "cells": [
  {
   "cell_type": "code",
   "execution_count": null,
   "metadata": {},
   "outputs": [],
   "source": [
    "from matplotlib import pyplot as plt\n",
    "import numpy as np\n",
    "import pandas as pd\n",
    "import scipy.stats as spstats\n",
    "%matplotlib inline"
   ]
  },
  {
   "cell_type": "code",
   "execution_count": null,
   "metadata": {},
   "outputs": [],
   "source": [
    "files = [\n",
    "    'SI301 Fall 2017 Feedback Form (Early Teamwork Group).csv',\n",
    "    'SI301 Fall 2017 Feedback Form (Late Teamwork Group).csv',\n",
    "    'SI301 Fall 2018 Feedback Form (Early Teamwork Group).csv',\n",
    "    'SI301 Fall 2018 Feedback Form (Late Teamwork Group).csv'\n",
    "]"
   ]
  },
  {
   "cell_type": "code",
   "execution_count": null,
   "metadata": {},
   "outputs": [],
   "source": [
    "data_frames = []\n",
    "for i, file in enumerate(files):\n",
    "    data_frames.append(pd.read_csv('preprocessed/' + file, index_col=0))"
   ]
  },
  {
   "cell_type": "code",
   "execution_count": null,
   "metadata": {},
   "outputs": [],
   "source": [
    "len(data_frames[1])"
   ]
  },
  {
   "cell_type": "code",
   "execution_count": null,
   "metadata": {},
   "outputs": [],
   "source": [
    "df_exp = data_frames[0]\n",
    "df_con = data_frames[1]"
   ]
  },
  {
   "cell_type": "code",
   "execution_count": null,
   "metadata": {},
   "outputs": [],
   "source": [
    "exclude = set([\n",
    "    'Any other comments?',\n",
    "    'Timestamp',\n",
    "    'Which aspects of this course do you like best?',\n",
    "    'Which aspects of this course do you like least?'])"
   ]
  },
  {
   "cell_type": "code",
   "execution_count": null,
   "metadata": {},
   "outputs": [],
   "source": [
    "columns = sorted(\n",
    "    (set(df_exp.columns) & set(df_con.columns)) - exclude)"
   ]
  },
  {
   "cell_type": "code",
   "execution_count": null,
   "metadata": {},
   "outputs": [],
   "source": [
    "columns"
   ]
  },
  {
   "cell_type": "code",
   "execution_count": null,
   "metadata": {},
   "outputs": [],
   "source": [
    "for c in columns:\n",
    "    t, p = spstats.ttest_ind(df_con[c].dropna(), df_exp[c].dropna())\n",
    "    plt.figure()\n",
    "    plt.title(\"{} (t={:0.2f}, p={:0.3f})\".format(c, t, p))\n",
    "    data = [\n",
    "        df_con[c].dropna(),\n",
    "        df_exp[c].dropna()]\n",
    "    plt.hist(data, bins=[-2.5, -1.5, -0.5, 0.5, 1.5, 2.5], label=['control', 'treatment'], normed=True)\n",
    "    plt.legend()\n",
    "    "
   ]
  },
  {
   "cell_type": "code",
   "execution_count": null,
   "metadata": {},
   "outputs": [],
   "source": []
  },
  {
   "cell_type": "code",
   "execution_count": null,
   "metadata": {},
   "outputs": [],
   "source": []
  }
 ],
 "metadata": {
  "kernelspec": {
   "display_name": "Python 3 (ipykernel)",
   "language": "python",
   "name": "python3"
  },
  "language_info": {
   "codemirror_mode": {
    "name": "ipython",
    "version": 3
   },
   "file_extension": ".py",
   "mimetype": "text/x-python",
   "name": "python",
   "nbconvert_exporter": "python",
   "pygments_lexer": "ipython3",
   "version": "3.8.10"
  }
 },
 "nbformat": 4,
 "nbformat_minor": 4
}
