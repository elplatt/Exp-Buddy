{
 "cells": [
  {
   "cell_type": "code",
   "execution_count": 1,
   "metadata": {},
   "outputs": [],
   "source": [
    "from matplotlib import pyplot as plt\n",
    "import numpy as np\n",
    "import pandas as pd\n",
    "%matplotlib inline"
   ]
  },
  {
   "cell_type": "markdown",
   "metadata": {},
   "source": [
    "## 2017"
   ]
  },
  {
   "cell_type": "code",
   "execution_count": 2,
   "metadata": {},
   "outputs": [],
   "source": [
    "# Load raw data\n",
    "grade_2017 = 'data/grades/2017/2019-07-12T1714_Grades-SI_301_001_FA_2017.csv'\n",
    "df = pd.read_csv(grade_2017)\n",
    "\n",
    "# Create data frame\n",
    "df_2017 = pd.DataFrame(index=df.index)\n",
    "\n",
    "# Create uid based on hash of username\n",
    "df_2017['uid'] = pd.Series(index=df.index, dtype='uint64')\n",
    "for i in df.index:\n",
    "    df_2017.loc[i, 'uid'] = hash(df['SIS Login ID'][i])\n",
    "    \n",
    "# Add treatment column\n",
    "df_2017['treatment'] = df['Early/Late Team Work Assignment (373441)']\n",
    "    \n",
    "# Add midterm column\n",
    "df_2017['midterm'] = df['Midterm (401592)']"
   ]
  },
  {
   "cell_type": "code",
   "execution_count": 3,
   "metadata": {},
   "outputs": [],
   "source": [
    "df_2017 = df_2017[df_2017.treatment > 0]\n",
    "df_2017.to_csv('preprocessed/grades_2017.csv')"
   ]
  },
  {
   "cell_type": "markdown",
   "metadata": {},
   "source": [
    "## 2018"
   ]
  },
  {
   "cell_type": "code",
   "execution_count": 4,
   "metadata": {},
   "outputs": [],
   "source": [
    "# Load raw data\n",
    "grade_2018 = 'data/grades/2018/2019-07-12T1704_Grades-SI_301_001_FA_2018.csv'\n",
    "df = pd.read_csv(grade_2018)\n",
    "\n",
    "# Create data frame\n",
    "df_2018 = pd.DataFrame(index=df.index)\n",
    "\n",
    "# Create uid based on hash of username\n",
    "df_2018['uid'] = pd.Series(index=df.index, dtype='uint64')\n",
    "for i in df.index:\n",
    "    df_2018.loc[i, 'uid'] = hash(df['SIS Login ID'][i])\n",
    "\n",
    "# Add uniqename\n",
    "df_2018['uniqname'] = df['SIS Login ID']\n",
    "    \n",
    "# Add midterm column\n",
    "df_2018['midterm'] = df['Midterm (622350)']\n",
    "\n",
    "# Use uid as index\n",
    "df_2018['index'] = df_2018['uid']\n",
    "df_2018 = df_2018.set_index('index')"
   ]
  },
  {
   "cell_type": "code",
   "execution_count": 5,
   "metadata": {},
   "outputs": [],
   "source": [
    "# Load treatment data\n",
    "assignment_file = 'data/grades/2018/Working groups and pairings/group_assignments.csv'\n",
    "df = pd.read_csv(assignment_file)\n",
    "\n",
    "# Add treatment column\n",
    "df_2018['treatment'] = pd.Series(index=df_2018.index)\n",
    "for i in df.index:\n",
    "    uid = hash(df.loc[i, 'uniqname'])\n",
    "    if df.loc[i, 'Working Group'] == 'Early':\n",
    "        df_2018.loc[uid, 'treatment'] = 1\n",
    "    else:\n",
    "        df_2018.loc[uid, 'treatment'] = 2"
   ]
  },
  {
   "cell_type": "code",
   "execution_count": 6,
   "metadata": {},
   "outputs": [
    {
     "data": {
      "text/html": [
       "<div>\n",
       "<style scoped>\n",
       "    .dataframe tbody tr th:only-of-type {\n",
       "        vertical-align: middle;\n",
       "    }\n",
       "\n",
       "    .dataframe tbody tr th {\n",
       "        vertical-align: top;\n",
       "    }\n",
       "\n",
       "    .dataframe thead th {\n",
       "        text-align: right;\n",
       "    }\n",
       "</style>\n",
       "<table border=\"1\" class=\"dataframe\">\n",
       "  <thead>\n",
       "    <tr style=\"text-align: right;\">\n",
       "      <th></th>\n",
       "      <th>uid</th>\n",
       "      <th>uniqname</th>\n",
       "      <th>midterm</th>\n",
       "      <th>treatment</th>\n",
       "    </tr>\n",
       "    <tr>\n",
       "      <th>index</th>\n",
       "      <th></th>\n",
       "      <th></th>\n",
       "      <th></th>\n",
       "      <th></th>\n",
       "    </tr>\n",
       "  </thead>\n",
       "  <tbody>\n",
       "    <tr>\n",
       "      <th>0.000000e+00</th>\n",
       "      <td>0.000000e+00</td>\n",
       "      <td>NaN</td>\n",
       "      <td>100.0</td>\n",
       "      <td>NaN</td>\n",
       "    </tr>\n",
       "    <tr>\n",
       "      <th>3.599830e+18</th>\n",
       "      <td>3.599830e+18</td>\n",
       "      <td>oabrams</td>\n",
       "      <td>98.0</td>\n",
       "      <td>1.0</td>\n",
       "    </tr>\n",
       "    <tr>\n",
       "      <th>2.410581e+18</th>\n",
       "      <td>2.410581e+18</td>\n",
       "      <td>shaelyn</td>\n",
       "      <td>97.0</td>\n",
       "      <td>1.0</td>\n",
       "    </tr>\n",
       "    <tr>\n",
       "      <th>-4.358879e+18</th>\n",
       "      <td>-4.358879e+18</td>\n",
       "      <td>sulayman</td>\n",
       "      <td>93.0</td>\n",
       "      <td>1.0</td>\n",
       "    </tr>\n",
       "    <tr>\n",
       "      <th>5.425166e+17</th>\n",
       "      <td>5.425166e+17</td>\n",
       "      <td>gbadag</td>\n",
       "      <td>83.0</td>\n",
       "      <td>2.0</td>\n",
       "    </tr>\n",
       "  </tbody>\n",
       "</table>\n",
       "</div>"
      ],
      "text/plain": [
       "                        uid  uniqname  midterm  treatment\n",
       "index                                                    \n",
       " 0.000000e+00  0.000000e+00       NaN    100.0        NaN\n",
       " 3.599830e+18  3.599830e+18   oabrams     98.0        1.0\n",
       " 2.410581e+18  2.410581e+18   shaelyn     97.0        1.0\n",
       "-4.358879e+18 -4.358879e+18  sulayman     93.0        1.0\n",
       " 5.425166e+17  5.425166e+17    gbadag     83.0        2.0"
      ]
     },
     "execution_count": 6,
     "metadata": {},
     "output_type": "execute_result"
    }
   ],
   "source": [
    "df_2018.head()"
   ]
  },
  {
   "cell_type": "code",
   "execution_count": 7,
   "metadata": {},
   "outputs": [],
   "source": [
    "df_2018 = df_2018[df_2018.treatment > 0]\n",
    "df_2018 = df_2018.drop(columns=['uniqname'])\n",
    "df_2018.to_csv('preprocessed/grades_2018.csv')"
   ]
  },
  {
   "cell_type": "code",
   "execution_count": null,
   "metadata": {},
   "outputs": [],
   "source": []
  }
 ],
 "metadata": {
  "kernelspec": {
   "display_name": "Python 3",
   "language": "python",
   "name": "python3"
  },
  "language_info": {
   "codemirror_mode": {
    "name": "ipython",
    "version": 3
   },
   "file_extension": ".py",
   "mimetype": "text/x-python",
   "name": "python",
   "nbconvert_exporter": "python",
   "pygments_lexer": "ipython3",
   "version": "3.6.2"
  }
 },
 "nbformat": 4,
 "nbformat_minor": 2
}
