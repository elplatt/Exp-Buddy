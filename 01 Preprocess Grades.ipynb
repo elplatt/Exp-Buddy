{
 "cells": [
  {
   "cell_type": "code",
   "execution_count": null,
   "metadata": {},
   "outputs": [],
   "source": [
    "from matplotlib import pyplot as plt\n",
    "from hashlib import md5\n",
    "import numpy as np\n",
    "import pandas as pd\n",
    "%matplotlib inline"
   ]
  },
  {
   "cell_type": "markdown",
   "metadata": {},
   "source": [
    "## 2017"
   ]
  },
  {
   "cell_type": "code",
   "execution_count": null,
   "metadata": {},
   "outputs": [],
   "source": [
    "# Assignment column names\n",
    "assignments = [[\n",
    "        # Early period\n",
    "        'Assignment 2 (375591)',\n",
    "        'Assignment 3 (380197)',\n",
    "        'Assignment 4 (384309)',\n",
    "        'Assignment 5 (388302)',\n",
    "        'Assignment 6 (392378)',\n",
    "        'Assignment 7 (399215)',\n",
    "        \n",
    "    ], [\n",
    "        # Late period\n",
    "        'Assignment 8 (403014)',\n",
    "        'Assignment 9 (406816)',\n",
    "        'Assignment 10 (410342)',\n",
    "        'Assignment 11 (413824)',\n",
    "        'Assignment 12 (416215)',\n",
    "        'Assignment 13 (421191)'\n",
    "    ]\n",
    "]"
   ]
  },
  {
   "cell_type": "code",
   "execution_count": null,
   "metadata": {},
   "outputs": [],
   "source": [
    "# Load raw data\n",
    "grade_2017 = 'data/grades/2017/2019-07-12T1714_Grades-SI_301_001_FA_2017.csv'\n",
    "df = pd.read_csv(grade_2017)\n",
    "\n",
    "# Create data frame\n",
    "df_2017 = pd.DataFrame(index=df.index)\n",
    "\n",
    "# Create uid based on hash of username\n",
    "df_2017['uid'] = pd.Series(index=df.index, dtype='uint64')\n",
    "for i in df.index:\n",
    "    df_2017.loc[i, 'uid'] = md5(str(df['SIS Login ID'][i]).lower().encode('utf-8')).hexdigest()\n",
    "    \n",
    "# Add treatment column\n",
    "df_2017['treatment'] = pd.Series(index=df_2017.index)\n",
    "for i in df_2017.index:\n",
    "    if df['Early/Late Team Work Assignment (373441)'][i] == 1.0:\n",
    "        df_2017.loc[i, 'treatment'] = 'Early'\n",
    "    elif df['Early/Late Team Work Assignment (373441)'][i] == 2.0:\n",
    "        df_2017.loc[i, 'treatment'] = 'Late'\n",
    "    else:\n",
    "        df_2017.loc[i, 'treatment'] = None\n",
    "    \n",
    "# Add midterm column\n",
    "df_2017['midterm'] = df['Midterm (401592)']\n",
    "\n",
    "# Add midterm column\n",
    "df_2017['final'] = df['Final (437773)']\n",
    "\n",
    "# Add year column\n",
    "df_2017['year'] = '2017'\n",
    "\n",
    "# Calculate assignment mean for period\n",
    "df_2017['early_assignments_unfixed'] = df.loc[:,assignments[0]].mean(axis=1, skipna=False)\n",
    "df_2017['late_assignments_unfixed'] = df.loc[:,assignments[1]].mean(axis=1, skipna=False)\n",
    "\n",
    "# Adjust for bonus given to only treatment group\n",
    "# Assign bonus to control in same fashion\n",
    "for i in df.index:\n",
    "    if df['Early/Late Team Work Assignment (373441)'][i] == 1.0:\n",
    "        individual_period = 1\n",
    "    elif df['Early/Late Team Work Assignment (373441)'][i] == 2.0:\n",
    "        individual_period = 0\n",
    "    else:\n",
    "        continue\n",
    "    for c in assignments[individual_period]:\n",
    "        df.loc[i, c] = min(100, df.loc[i, c] + 10)\n",
    "\n",
    "# Calculate assignment mean for period\n",
    "df_2017['early_assignments'] = df.loc[:,assignments[0]].mean(axis=1, skipna=False)\n",
    "df_2017['late_assignments'] = df.loc[:,assignments[1]].mean(axis=1, skipna=False)\n"
   ]
  },
  {
   "cell_type": "code",
   "execution_count": null,
   "metadata": {},
   "outputs": [],
   "source": [
    "df_2017 = df_2017.dropna(subset=['treatment'])\n",
    "df_2017.to_csv('preprocessed/grades_2017.csv')"
   ]
  },
  {
   "cell_type": "code",
   "execution_count": null,
   "metadata": {},
   "outputs": [],
   "source": [
    "plt.hist(\n",
    "    [df_2017[df_2017.treatment == 'Late'].early_assignments,\n",
    "    df_2017[df_2017.treatment == 'Late'].early_assignments_unfixed], bins=range(0, 101, 10))"
   ]
  },
  {
   "cell_type": "markdown",
   "metadata": {},
   "source": [
    "## 2018"
   ]
  },
  {
   "cell_type": "code",
   "execution_count": null,
   "metadata": {},
   "outputs": [],
   "source": [
    "# Assignment column names\n",
    "assignments = [[\n",
    "        # Early period\n",
    "        'Assignment2 (603916)',\n",
    "        'Assignment3 (611541)',\n",
    "        'Assignment 4 (614794)',\n",
    "        'Assignment 5 (622368)',\n",
    "        'Assignment 6 (628783)',\n",
    "        'Assignment 7 (632651)'\n",
    "    ], [\n",
    "        # Late period\n",
    "        'Assignment 8 (636118)',\n",
    "        'Assignment 9 (654039)',\n",
    "        'Assignment 10 (656450)',\n",
    "        'Assignment 11 (656451)',\n",
    "        'Assignment 12 (656452)',\n",
    "        'Assignment 13 (656453)'\n",
    "    ]\n",
    "]"
   ]
  },
  {
   "cell_type": "code",
   "execution_count": null,
   "metadata": {},
   "outputs": [],
   "source": [
    "# Load raw data\n",
    "grade_2018 = 'data/grades/2018/2019-07-12T1704_Grades-SI_301_001_FA_2018.csv'\n",
    "df = pd.read_csv(grade_2018)\n",
    "\n",
    "# Create uid based on hash of username\n",
    "df['uid'] = pd.Series(index=df.index, dtype='uint64')\n",
    "for i in df.index:\n",
    "    df.loc[i, 'uid'] = md5(str(df['SIS Login ID'][i]).lower().encode('utf-8')).hexdigest()\n",
    "\n",
    "# Use uid as index    \n",
    "df = df.set_index('uid')\n",
    "    \n",
    "# Create data frame\n",
    "df_2018 = pd.DataFrame(index=df.index)\n",
    "\n",
    "# Add uniqename\n",
    "#df_2018['uniqname'] = df['SIS Login ID']\n",
    "    \n",
    "# Add midterm column\n",
    "df_2018['midterm'] = df['Midterm (622350)']\n",
    "\n",
    "# Add final column\n",
    "df_2018['final'] = df['Final (664612)']\n",
    "\n",
    "# Add year\n",
    "df_2018['year'] = '2018'"
   ]
  },
  {
   "cell_type": "code",
   "execution_count": null,
   "metadata": {},
   "outputs": [],
   "source": [
    "# Load treatment data\n",
    "assignment_file = 'data/grades/2018/Working groups and pairings/group_assignments.csv'\n",
    "df_treatment = pd.read_csv(assignment_file)\n",
    "\n",
    "# Create uid based on hash of username\n",
    "df_treatment['uid'] = pd.Series(index=df_treatment.index, dtype='uint64')\n",
    "for i in df_treatment.index:\n",
    "    uniqname = str(df_treatment['uniqname'][i]).lower().encode('utf-8')\n",
    "    df_treatment.loc[i, 'uid'] = md5(uniqname).hexdigest()\n",
    "df_treatment = df_treatment.set_index('uid')\n",
    "    \n",
    "# Add treatment column\n",
    "df_2018['treatment'] = pd.Series(index=df_2018.index)\n",
    "for uid in df_treatment.index:\n",
    "    if uid not in df_2018.index:\n",
    "        print('Skipping uid: {}'.format(uid))\n",
    "        continue\n",
    "    if df_treatment.loc[uid, 'Working Group'] == 'Early':\n",
    "        df_2018.loc[uid, 'treatment'] = 'Early'\n",
    "    elif df_treatment.loc[uid, 'Working Group'] == 'Late':\n",
    "        df_2018.loc[uid, 'treatment'] = 'Late'\n",
    "    else:\n",
    "        df_2018.loc[uid, 'treatment'] = None\n",
    "        \n",
    "# Adjust for bonus given to only treatment group\n",
    "# Assign bonus to control in same fashion\n",
    "for uid in df_2018.index:\n",
    "    if df_2018.treatment[uid] == 'Early':\n",
    "        individual_period = 1\n",
    "    elif df_2018.treatment[uid] == 'Late':\n",
    "        individual_period = 0\n",
    "    else:\n",
    "        continue\n",
    "    for c in assignments[individual_period]:\n",
    "        df.loc[uid, c] = min(100, df.loc[uid, c] + 10)\n",
    "\n",
    "# Calculate assignment mean for period\n",
    "df_2018['early_assignments'] = df.loc[:,assignments[0]].mean(axis=1, skipna=False)\n",
    "df_2018['late_assignments'] = df.loc[:,assignments[1]].mean(axis=1, skipna=False)\n"
   ]
  },
  {
   "cell_type": "code",
   "execution_count": null,
   "metadata": {},
   "outputs": [],
   "source": [
    "df_2018 = df_2018.dropna(subset=['treatment'])\n",
    "df_2018.to_csv('preprocessed/grades_2018.csv')"
   ]
  },
  {
   "cell_type": "code",
   "execution_count": null,
   "metadata": {},
   "outputs": [],
   "source": [
    "plt.hist(\n",
    "    [df_2018[df_2018.treatment == 'Early'].early_assignments,\n",
    "    df_2018[df_2018.treatment == 'Late'].early_assignments], bins=range(0, 101, 10))"
   ]
  },
  {
   "cell_type": "code",
   "execution_count": null,
   "metadata": {},
   "outputs": [],
   "source": []
  }
 ],
 "metadata": {
  "kernelspec": {
   "display_name": "Python 3",
   "language": "python",
   "name": "python3"
  },
  "language_info": {
   "codemirror_mode": {
    "name": "ipython",
    "version": 3
   },
   "file_extension": ".py",
   "mimetype": "text/x-python",
   "name": "python",
   "nbconvert_exporter": "python",
   "pygments_lexer": "ipython3",
   "version": "3.6.2"
  }
 },
 "nbformat": 4,
 "nbformat_minor": 2
}
