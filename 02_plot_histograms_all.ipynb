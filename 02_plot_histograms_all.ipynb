{
 "cells": [
  {
   "cell_type": "code",
   "execution_count": null,
   "metadata": {},
   "outputs": [],
   "source": [
    "from matplotlib import pyplot as plt\n",
    "import numpy as np\n",
    "import pandas as pd\n",
    "import scipy.stats as spstats\n",
    "%matplotlib inline"
   ]
  },
  {
   "cell_type": "code",
   "execution_count": null,
   "metadata": {},
   "outputs": [],
   "source": [
    "files = [\n",
    "    'SI301 Fall 2017 Feedback Form (Early Teamwork Group).csv',\n",
    "    'SI301 Fall 2017 Feedback Form (Late Teamwork Group).csv',\n",
    "    'SI301 Fall 2018 Feedback Form (Early Teamwork Group).csv',\n",
    "    'SI301 Fall 2018 Feedback Form (Late Teamwork Group).csv'\n",
    "]"
   ]
  },
  {
   "cell_type": "code",
   "execution_count": null,
   "metadata": {},
   "outputs": [],
   "source": [
    "data_frames = []\n",
    "for i, file in enumerate(files):\n",
    "    data_frames.append(pd.read_csv('preprocessed/' + file, index_col=0))"
   ]
  },
  {
   "cell_type": "code",
   "execution_count": null,
   "metadata": {},
   "outputs": [],
   "source": [
    "df_exp = pd.concat([data_frames[0], data_frames[2]])\n",
    "df_con = pd.concat([data_frames[1], data_frames[3]])\n",
    "print(len(df_exp), len(df_exp))"
   ]
  },
  {
   "cell_type": "code",
   "execution_count": null,
   "metadata": {},
   "outputs": [],
   "source": [
    "exclude = set([\n",
    "    'Any other comments?',\n",
    "    'Timestamp',\n",
    "    'Which aspects of this course do you like best?',\n",
    "    'Which aspects of this course do you like least?'])"
   ]
  },
  {
   "cell_type": "code",
   "execution_count": null,
   "metadata": {},
   "outputs": [],
   "source": [
    "columns = sorted(\n",
    "    (set(df_exp.columns) & set(df_con.columns)) - exclude)"
   ]
  },
  {
   "cell_type": "code",
   "execution_count": null,
   "metadata": {},
   "outputs": [],
   "source": [
    "columns"
   ]
  },
  {
   "cell_type": "code",
   "execution_count": null,
   "metadata": {},
   "outputs": [],
   "source": [
    "for c in columns:\n",
    "    x1 = df_con[c].dropna()\n",
    "    x2 = df_exp[c].dropna()\n",
    "    t, pt = spstats.ttest_ind(x1, x2)\n",
    "    u, pu = spstats.mannwhitneyu(x1, x2)\n",
    "    plt.figure()\n",
    "    plt.title(\"{} ($p_t$={:0.3f} $p_u$={:0.3f})\".format(c, pt, pu))\n",
    "    data = [\n",
    "        df_con[c].dropna(),\n",
    "        df_exp[c].dropna()]\n",
    "    plt.hist(data, bins=[-2.5, -1.5, -0.5, 0.5, 1.5, 2.5], label=['control', 'treatment'])\n",
    "    plt.legend()"
   ]
  },
  {
   "cell_type": "code",
   "execution_count": null,
   "metadata": {},
   "outputs": [],
   "source": []
  }
 ],
 "metadata": {
  "kernelspec": {
   "display_name": "Python 3 (ipykernel)",
   "language": "python",
   "name": "python3"
  },
  "language_info": {
   "codemirror_mode": {
    "name": "ipython",
    "version": 3
   },
   "file_extension": ".py",
   "mimetype": "text/x-python",
   "name": "python",
   "nbconvert_exporter": "python",
   "pygments_lexer": "ipython3",
   "version": "3.9.5"
  }
 },
 "nbformat": 4,
 "nbformat_minor": 4
}
