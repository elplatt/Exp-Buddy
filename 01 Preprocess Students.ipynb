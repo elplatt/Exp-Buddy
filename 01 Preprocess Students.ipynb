{
 "cells": [
  {
   "cell_type": "code",
   "execution_count": null,
   "metadata": {},
   "outputs": [],
   "source": [
    "from hashlib import md5\n",
    "from matplotlib import pyplot as plt\n",
    "import numpy as np\n",
    "import pandas as pd\n",
    "%matplotlib inline"
   ]
  },
  {
   "cell_type": "code",
   "execution_count": null,
   "metadata": {},
   "outputs": [],
   "source": [
    "files = [\n",
    "    '2017_year.csv',\n",
    "    '2018_year.csv',\n",
    "    '2019_year.csv'\n",
    "]"
   ]
  },
  {
   "cell_type": "code",
   "execution_count": null,
   "metadata": {},
   "outputs": [],
   "source": [
    "data_frames = []\n",
    "for file in files:\n",
    "    df_raw = pd.read_csv(\n",
    "        'data/students/' + file,\n",
    "        converters={'Campus ID': str}\n",
    "    )\n",
    "    df_raw['uid'] = pd.Series(index=df_raw.index, dtype='uint64')\n",
    "    for j in df_raw.index:\n",
    "        u = str(df_raw.loc[j, 'Campus ID']).lower().encode('utf-8')\n",
    "        df_raw.loc[j, 'uid'] = md5(u).hexdigest()\n",
    "    df_raw = df_raw.dropna(subset=['uid']).set_index('uid')\n",
    "    df = pd.DataFrame(index=df_raw.index)\n",
    "    df['level'] = df_raw.Level\n",
    "    df['program'] = df_raw['Program, Plan, and Subplan']\n",
    "    df.to_csv('preprocessed/student_' + file)"
   ]
  },
  {
   "cell_type": "code",
   "execution_count": null,
   "metadata": {},
   "outputs": [],
   "source": []
  }
 ],
 "metadata": {
  "kernelspec": {
   "display_name": "Python 3 (ipykernel)",
   "language": "python",
   "name": "python3"
  },
  "language_info": {
   "codemirror_mode": {
    "name": "ipython",
    "version": 3
   },
   "file_extension": ".py",
   "mimetype": "text/x-python",
   "name": "python",
   "nbconvert_exporter": "python",
   "pygments_lexer": "ipython3",
   "version": "3.9.5"
  }
 },
 "nbformat": 4,
 "nbformat_minor": 4
}
